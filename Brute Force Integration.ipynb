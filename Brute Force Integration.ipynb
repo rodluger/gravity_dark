{
 "cells": [
  {
   "cell_type": "code",
   "execution_count": 1,
   "metadata": {},
   "outputs": [],
   "source": [
    "import matplotlib.pyplot as plt\n",
    "import numpy as np\n",
    "import plot_spheroid as ps"
   ]
  },
  {
   "cell_type": "code",
   "execution_count": null,
   "metadata": {},
   "outputs": [],
   "source": [
    "#plot one spheroid with Teff variation across the surface\n",
    "def flux_star(omega,n):\n",
    "\n",
    "    \n",
    "    def get_one_F(omega,theta):\n",
    "        r,T,F=ps.solve_ELR(omega,theta)\n",
    "        return F\n",
    "    \n",
    "    Re=1.0\n",
    "    Rp=Rp_div_Re(omega)*Re\n",
    "   \n",
    "    # Set of all spherical angles:\n",
    "    phi = np.linspace(-np.pi, np.pi, n)\n",
    "    nu = np.linspace(-np.pi/2, np.pi/2, n)\n",
    "\n",
    "    angles=np.outer(np.ones_like(phi),nu)\n",
    "    F=np.outer(np.ones_like(phi),np.ones_like(nu))\n",
    "    for j in range(n):\n",
    "        theta=angles[0,j]\n",
    "        F[:,j]=get_one_F(omega,theta)\n",
    "        \n",
    "    if(Rp==Re): #spherical\n",
    "        a=Re\n",
    "        x=a*np.outer(np.cos(phi),np.cos(nu))\n",
    "        y=a*np.outer(np.sin(phi),np.cos(nu))\n",
    "        z=a*np.outer(np.ones_like(phi), np.sin(nu))\n",
    "        \n",
    "        F=np.outer(np.ones_like(phi), np.ones_like(nu))\n",
    "        \n",
    "    else: #spheroidal\n",
    "        mu=np.arctanh(Rp/Re)\n",
    "        a=np.sqrt(Re*Re - Rp*Rp)\n",
    "\n",
    "        # Cartesian coordinates that correspond to the spherical angles:\n",
    "        # (this is the equation of an ellipsoid):\n",
    "        x = a*np.cosh(mu) * np.outer(np.cos(phi), np.cos(nu))\n",
    "        y = a*np.cosh(mu) * np.outer(np.sin(phi), np.cos(nu))\n",
    "        z = a*np.sinh(mu) * np.outer(np.ones_like(phi), np.sin(nu))\n",
    "        Fmin=F.min()\n",
    "        Fmax=F.max()\n",
    "        F=(F-Fmin)/(Fmax - Fmin)\n",
    "        \n",
    "        return x, y, z, F\n",
    "def rotate_star(x, y, z, theta, u):\n",
    "    \n",
    "    R = np.array([[np.cos(theta) + u[0]**2 * (1-np.cos(theta)), \n",
    "             u[0] * u[1] * (1-np.cos(theta)) - u[2] * np.sin(theta), \n",
    "             u[0] * u[2] * (1 - np.cos(theta)) + u[1] * np.sin(theta)],\n",
    "            [u[0] * u[1] * (1-np.cos(theta)) + u[2] * np.sin(theta),\n",
    "             np.cos(theta) + u[1]**2 * (1-np.cos(theta)),\n",
    "             u[1] * u[2] * (1 - np.cos(theta)) - u[0] * np.sin(theta)],\n",
    "            [u[0] * u[2] * (1-np.cos(theta)) - u[1] * np.sin(theta),\n",
    "             u[1] * u[2] * (1-np.cos(theta)) + u[0] * np.sin(theta),\n",
    "             np.cos(theta) + u[2]**2 * (1-np.cos(theta))]])\n",
    "    return "
   ]
  }
 ],
 "metadata": {
  "kernelspec": {
   "display_name": "Python 3",
   "language": "python",
   "name": "python3"
  },
  "language_info": {
   "codemirror_mode": {
    "name": "ipython",
    "version": 3
   },
   "file_extension": ".py",
   "mimetype": "text/x-python",
   "name": "python",
   "nbconvert_exporter": "python",
   "pygments_lexer": "ipython3",
   "version": "3.7.3"
  }
 },
 "nbformat": 4,
 "nbformat_minor": 4
}
